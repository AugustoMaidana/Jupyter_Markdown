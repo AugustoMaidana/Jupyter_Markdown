{
 "cells": [
  {
   "cell_type": "code",
   "execution_count": null,
   "metadata": {},
   "outputs": [],
   "source": [
    "import numpy as np"
   ]
  },
  {
   "cell_type": "code",
   "execution_count": 28,
   "metadata": {},
   "outputs": [
    {
     "name": "stdout",
     "output_type": "stream",
     "text": [
      "Markdown in Jupyter Notebook!\n"
     ]
    }
   ],
   "source": [
    "print('Markdown in Jupyter Notebook!')"
   ]
  },
  {
   "cell_type": "code",
   "execution_count": 40,
   "metadata": {},
   "outputs": [
    {
     "name": "stdout",
     "output_type": "stream",
     "text": [
      "10\n"
     ]
    }
   ],
   "source": [
    "x=5;\n",
    "print(5+x)"
   ]
  },
  {
   "cell_type": "markdown",
   "metadata": {},
   "source": [
    "# Markdown in Jupyter Notebook\n",
    "<a href=\"https://www.markdownguide.org/getting-started/\">Markdown Guide</a>\n",
    "# Headings:\n",
    "<h1>Header 1,title<h1>\n",
    "<h2>Header 2,major headings<h2>\n",
    "<h3>Header 3,subheadings<h3>\n",
    "<h4>Header 4<h4>\n",
    "<h5>Header 5<h5>\n",
    "<h6>Header 6<h6>"
   ]
  },
  {
   "cell_type": "markdown",
   "metadata": {},
   "source": [
    "### Alternative:\n",
    "# (Header 1, title)\n",
    "## (Header 2, major headings)\n",
    "### (Header 3, subheadings)\n",
    "#### (Header 4)\n",
    "##### (Header 5)\n",
    "###### (Header 6)``"
   ]
  },
  {
   "cell_type": "markdown",
   "metadata": {},
   "source": [
    "# Blockquote:\n",
    "> This is good\n",
    "\n",
    "### Alternative:\n",
    "\n",
    "<blockquote>This is good</blockquote>"
   ]
  },
  {
   "cell_type": "markdown",
   "metadata": {},
   "source": [
    "# Code section:\n",
    "### Inline code:\n",
    "`x=5`\n",
    "\n",
    "### Using Markdown\n",
    "```Python\n",
    "str = \"This is block level code\"\n",
    "print(str)```\n",
    "\n",
    "### Using Markup Tags\n",
    "<code>Python\n",
    "str = \"This is block level code\"\n",
    "print(str)\n",
    "<code>"
   ]
  },
  {
   "cell_type": "markdown",
   "metadata": {},
   "source": [
    "# Mathematical Symbol:\n",
    "Tex: $\\sqrt{k}$\n",
    "<p> Entity: &sum; <br />  DEC: &#8721;  <br /> HEX: &#x2211; </p>\n",
    "<a href=\"https://www.w3schools.com/charsets/ref_utf_math.asp\">Mathematical Operators</a>"
   ]
  },
  {
   "cell_type": "markdown",
   "metadata": {},
   "source": [
    "# Line Break:\n",
    "The line breaks after using <br> br tags and it is awesome."
   ]
  },
  {
   "cell_type": "markdown",
   "metadata": {},
   "source": [
    "# Bold and Italic Text:\n",
    "<b>This is bold text </b>\n",
    "\n",
    "**This is bold text**\n",
    "\n",
    "__This is bold text__\n",
    "\n",
    "<i>This is italic text </i>\n",
    "\n",
    "*This is italic text*\n",
    "\n",
    "_This is italic text_"
   ]
  },
  {
   "cell_type": "markdown",
   "metadata": {},
   "source": [
    "# Horizontal Line:\n",
    "___\n",
    "\n",
    "<hr>"
   ]
  },
  {
   "cell_type": "markdown",
   "metadata": {},
   "source": [
    "# Ordered List:\n",
    "<ol>\n",
    "<li>Fish</li>\n",
    "<li>Eggs</li>\n",
    "<li>Cheese</li>\n",
    "</ol>\n",
    "\n",
    "### Alternative:\n",
    "1. Fish\n",
    "\n",
    "2. Eggs\n",
    "\n",
    "3. Cheese"
   ]
  },
  {
   "cell_type": "markdown",
   "metadata": {},
   "source": [
    "# Unordered List:\n",
    "<ul>\n",
    "<li>Fish</li>\n",
    "<li>Eggs</li>\n",
    "<li>Cheese</li>\n",
    "</ul>\n",
    "\n",
    "### Alternative:\n",
    "- Fish\n",
    "- Eggs\n",
    "- Cheese"
   ]
  },
  {
   "cell_type": "markdown",
   "metadata": {},
   "source": [
    "# Internal and External Link\n",
    "### Internal Link:\n",
    "<a id = \"division_ID\"> <b>Internal Link</b> in Markdown starts with &lt;a&gt; tag with unique id defined by <br /> the attribute 'id' which can be linked in the notebook with the example below: </a>\n",
    "\n",
    "[Section title](#division_ID)\n",
    "    \n",
    "### External Link:\n",
    "\n",
    "<a href=\"https://www.datacamp.com/community/tutorials/markdown-in-jupyter-notebook\" >Link where to find help about this tutorial</a>\n",
    "\n"
   ]
  },
  {
   "cell_type": "markdown",
   "metadata": {},
   "source": [
    "# Table:\n",
    "\n",
    "|Name|Address|Salary|\n",
    "|-----|-------|------|\n",
    "|Hanna|Brisbane|4000|\n",
    "|Adam|Sydney|5000|\n",
    "\n",
    "### Alternative:\n",
    "<table style=\"width:20%\">\n",
    "<caption>Annual Salary</caption>\n",
    "<thead>\n",
    "<tr>\n",
    "<th>Name</th>\n",
    "<th>Address</th>\n",
    "<th>Salary</th>\n",
    "</tr>\n",
    "</thead>\n",
    "<tbody>\n",
    "<tr>\n",
    "<td>Hanna</td>\n",
    "<td>Brisbane</td>\n",
    "<td>4000</td>\n",
    "</tr>\n",
    "\n",
    "<tr>\n",
    "<td>Adam</td>\n",
    "<td>Sydney</td>\n",
    "<td>5000</td>\n",
    "</tr>\n",
    "</tbody>\n",
    "\n",
    "<tfoot>\n",
    "<tr>\n",
    "<td></td>\n",
    "<td></td>\n",
    "<td></td>\n",
    "</tr>\n",
    "</tfoot>\n",
    "</table>"
   ]
  },
  {
   "cell_type": "markdown",
   "metadata": {},
   "source": [
    "# Images:\n",
    "\n",
    "<img src=\"https://www.barcelonactiva.cat/image/layout_set_logo?img_id=37024&t=1617774045179\" width =\"500\" height=500 >\n",
    "<img src=\"https://itacademy.barcelonactiva.cat/pluginfile.php/1/theme_remui/logo/1618321910/logo.png\" width =\"500\" height=500 >"
   ]
  },
  {
   "cell_type": "markdown",
   "metadata": {},
   "source": [
    "<img src=\"augustomaidana.jpg\" width =\"500\" height=500 >"
   ]
  },
  {
   "cell_type": "markdown",
   "metadata": {},
   "source": [
    "### M. Augusto Maidana Silanes"
   ]
  }
 ],
 "metadata": {
  "kernelspec": {
   "display_name": "Python 3",
   "language": "python",
   "name": "python3"
  },
  "language_info": {
   "codemirror_mode": {
    "name": "ipython",
    "version": 3
   },
   "file_extension": ".py",
   "mimetype": "text/x-python",
   "name": "python",
   "nbconvert_exporter": "python",
   "pygments_lexer": "ipython3",
   "version": "3.9.2"
  },
  "latex_envs": {
   "LaTeX_envs_menu_present": true,
   "autoclose": false,
   "autocomplete": true,
   "bibliofile": "biblio.bib",
   "cite_by": "apalike",
   "current_citInitial": 1,
   "eqLabelWithNumbers": true,
   "eqNumInitial": 1,
   "hotkeys": {
    "equation": "Ctrl-E",
    "itemize": "Ctrl-I"
   },
   "labels_anchors": false,
   "latex_user_defs": false,
   "report_style_numbering": false,
   "user_envs_cfg": false
  }
 },
 "nbformat": 4,
 "nbformat_minor": 4
}
